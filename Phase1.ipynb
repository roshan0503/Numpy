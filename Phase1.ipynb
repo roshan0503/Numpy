{
 "cells": [
  {
   "cell_type": "markdown",
   "id": "54ef17e4",
   "metadata": {},
   "source": [
    "Numpy Array and Basics"
   ]
  },
  {
   "cell_type": "code",
   "execution_count": 1,
   "id": "ddd75f8f",
   "metadata": {},
   "outputs": [],
   "source": [
    "import numpy as np "
   ]
  },
  {
   "cell_type": "markdown",
   "id": "97ab02bf",
   "metadata": {},
   "source": [
    "CREATING ARRAYS FROM LIST"
   ]
  },
  {
   "cell_type": "code",
   "execution_count": 2,
   "id": "ff4662b6",
   "metadata": {},
   "outputs": [
    {
     "name": "stdout",
     "output_type": "stream",
     "text": [
      "[1 2 3 4 5 6]\n",
      "[[1 2 3]\n",
      " [4 5 6]]\n"
     ]
    }
   ],
   "source": [
    "arr_1D=np.array([1,2,3,4,5,6])\n",
    "print(arr_1D)\n",
    "\n",
    "arr_2D=np.array([[1,2,3],[4,5,6]])\n",
    "print(arr_2D)"
   ]
  },
  {
   "cell_type": "markdown",
   "id": "efeeb676",
   "metadata": {},
   "source": [
    "LIST vs NUMPY ARRAY"
   ]
  },
  {
   "cell_type": "code",
   "execution_count": 3,
   "id": "2820fd8c",
   "metadata": {},
   "outputs": [
    {
     "name": "stdout",
     "output_type": "stream",
     "text": [
      "List multiplication:  [1, 2, 3, 4, 5, 6, 1, 2, 3, 4, 5, 6]\n"
     ]
    }
   ],
   "source": [
    "py_list=[1,2,3,4,5,6]\n",
    "print(\"List multiplication: \", py_list*2)"
   ]
  },
  {
   "cell_type": "code",
   "execution_count": 4,
   "id": "b5dd19cf",
   "metadata": {},
   "outputs": [
    {
     "name": "stdout",
     "output_type": "stream",
     "text": [
      "Numpy arrray multiplication:  [ 2  4  6  8 10 12]\n"
     ]
    }
   ],
   "source": [
    "num_arr=np.array([1,2,3,4,5,6])\n",
    "print('Numpy arrray multiplication: ', num_arr*2)"
   ]
  },
  {
   "cell_type": "markdown",
   "id": "6dcf8084",
   "metadata": {},
   "source": [
    "CREATING ARRAYS FROM SCRATCH"
   ]
  },
  {
   "cell_type": "code",
   "execution_count": 6,
   "id": "88df0da1",
   "metadata": {},
   "outputs": [
    {
     "name": "stdout",
     "output_type": "stream",
     "text": [
      "Zeros Array: \n",
      " [[0. 0. 0. 0. 0.]\n",
      " [0. 0. 0. 0. 0.]\n",
      " [0. 0. 0. 0. 0.]\n",
      " [0. 0. 0. 0. 0.]]\n"
     ]
    }
   ],
   "source": [
    "zeros=np.zeros((4,5))\n",
    "print('Zeros Array: \\n', zeros)"
   ]
  },
  {
   "cell_type": "code",
   "execution_count": 8,
   "id": "158d47d3",
   "metadata": {},
   "outputs": [
    {
     "name": "stdout",
     "output_type": "stream",
     "text": [
      "Ones Array: \n",
      " [[1. 1. 1. 1. 1.]\n",
      " [1. 1. 1. 1. 1.]\n",
      " [1. 1. 1. 1. 1.]\n",
      " [1. 1. 1. 1. 1.]]\n"
     ]
    }
   ],
   "source": [
    "ones=np.ones((4,5))\n",
    "print('Ones Array: \\n', ones)"
   ]
  },
  {
   "cell_type": "code",
   "execution_count": 9,
   "id": "38aa5d09",
   "metadata": {},
   "outputs": [
    {
     "name": "stdout",
     "output_type": "stream",
     "text": [
      "[[7 7 7 7 7]\n",
      " [7 7 7 7 7]\n",
      " [7 7 7 7 7]\n",
      " [7 7 7 7 7]]\n"
     ]
    }
   ],
   "source": [
    "full=np.full((4,5),7)\n",
    "print(full)"
   ]
  },
  {
   "cell_type": "code",
   "execution_count": 10,
   "id": "183456f7",
   "metadata": {},
   "outputs": [
    {
     "name": "stdout",
     "output_type": "stream",
     "text": [
      "[[0.72520593 0.04877377 0.89651502]\n",
      " [0.9879917  0.86008964 0.64634012]]\n"
     ]
    }
   ],
   "source": [
    "random = np.random.random((2,3))\n",
    "print(random)"
   ]
  },
  {
   "cell_type": "code",
   "execution_count": 11,
   "id": "5ef08c0b",
   "metadata": {},
   "outputs": [
    {
     "name": "stdout",
     "output_type": "stream",
     "text": [
      "[0 2 4 6 8]\n"
     ]
    }
   ],
   "source": [
    "sequence = np.arange(0,10,2)\n",
    "print(sequence)"
   ]
  },
  {
   "cell_type": "markdown",
   "id": "ab1eb03d",
   "metadata": {},
   "source": [
    "VECTOR, MATRIX AND TENSOR"
   ]
  },
  {
   "cell_type": "code",
   "execution_count": 12,
   "id": "ee07e492",
   "metadata": {},
   "outputs": [
    {
     "name": "stdout",
     "output_type": "stream",
     "text": [
      "[1 2 3]\n"
     ]
    }
   ],
   "source": [
    "vector = np.array([1,2,3])\n",
    "print(vector)"
   ]
  },
  {
   "cell_type": "code",
   "execution_count": 13,
   "id": "ccc8cfca",
   "metadata": {},
   "outputs": [
    {
     "name": "stdout",
     "output_type": "stream",
     "text": [
      "[[1 2 3]\n",
      " [4 5 6]]\n"
     ]
    }
   ],
   "source": [
    "matrix = np.array([[1,2,3], [4,5,6]])\n",
    "print(matrix)"
   ]
  },
  {
   "cell_type": "code",
   "execution_count": 15,
   "id": "af997eac",
   "metadata": {},
   "outputs": [
    {
     "name": "stdout",
     "output_type": "stream",
     "text": [
      "[[[1 2]\n",
      "  [3 4]]\n",
      "\n",
      " [[5 6]\n",
      "  [7 8]]]\n"
     ]
    }
   ],
   "source": [
    "tensor = np.array([[[1,2], [3,4]],\n",
    "                   [[5,6], [7,8]]])\n",
    "print(tensor)"
   ]
  },
  {
   "cell_type": "markdown",
   "id": "bd1fd74e",
   "metadata": {},
   "source": [
    "ARRAY PROPERTIES"
   ]
  },
  {
   "cell_type": "code",
   "execution_count": 17,
   "id": "87824f84",
   "metadata": {},
   "outputs": [
    {
     "name": "stdout",
     "output_type": "stream",
     "text": [
      "Shape : (2, 3)\n",
      "Dimension : 2\n",
      "Size : 6\n",
      "Datatype : int64\n"
     ]
    }
   ],
   "source": [
    "arr = np.array([[1,2,3],[4,5,6]])\n",
    "\n",
    "print('Shape :', arr.shape) # Gives shape of array(roes and column)\n",
    "print('Dimension :', arr.ndim) # Give dimension of array(1d,2d, or nd)\n",
    "print('Size :', arr.size) #Give number of elements in array\n",
    "print('Datatype :', arr.dtype)    #Give datatype"
   ]
  },
  {
   "cell_type": "markdown",
   "id": "7cd867dd",
   "metadata": {},
   "source": [
    "ARRAY RESHAPING"
   ]
  },
  {
   "cell_type": "code",
   "execution_count": 19,
   "id": "743dd380",
   "metadata": {},
   "outputs": [
    {
     "name": "stdout",
     "output_type": "stream",
     "text": [
      "Original Array:  [ 0  1  2  3  4  5  6  7  8  9 10 11]\n",
      "Reshaped Array:\n",
      " [[ 0  1]\n",
      " [ 2  3]\n",
      " [ 4  5]\n",
      " [ 6  7]\n",
      " [ 8  9]\n",
      " [10 11]]\n"
     ]
    }
   ],
   "source": [
    "arr = np.arange(12)\n",
    "print('Original Array: ', arr)\n",
    "\n",
    "reshape = arr.reshape((6,2))\n",
    "print('Reshaped Array:\\n', reshape)"
   ]
  },
  {
   "cell_type": "code",
   "execution_count": null,
   "id": "f79e6d52",
   "metadata": {},
   "outputs": [],
   "source": []
  }
 ],
 "metadata": {
  "kernelspec": {
   "display_name": "env",
   "language": "python",
   "name": "python3"
  },
  "language_info": {
   "codemirror_mode": {
    "name": "ipython",
    "version": 3
   },
   "file_extension": ".py",
   "mimetype": "text/x-python",
   "name": "python",
   "nbconvert_exporter": "python",
   "pygments_lexer": "ipython3",
   "version": "3.11.9"
  }
 },
 "nbformat": 4,
 "nbformat_minor": 5
}
