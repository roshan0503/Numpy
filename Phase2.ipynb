{
 "cells": [
  {
   "cell_type": "markdown",
   "id": "6a506e5d",
   "metadata": {},
   "source": [
    "## NUMPY ARRAY OPERATIONS"
   ]
  },
  {
   "cell_type": "code",
   "execution_count": 1,
   "id": "a16c3721",
   "metadata": {},
   "outputs": [],
   "source": [
    "import numpy as np "
   ]
  },
  {
   "cell_type": "markdown",
   "id": "e8e2d26e",
   "metadata": {},
   "source": [
    "Slicing"
   ]
  },
  {
   "cell_type": "code",
   "execution_count": 5,
   "id": "b0aebeaa",
   "metadata": {},
   "outputs": [
    {
     "name": "stdout",
     "output_type": "stream",
     "text": [
      "Basic Slicing:  [3 4 5 6 7]\n",
      "with step:  [2 4 6 8]\n",
      "Negative indexing:  [2 3 4 5 6]\n"
     ]
    }
   ],
   "source": [
    "#Slicing means extracting a part(subset) of an array using specific range of index\n",
    "arr = np.array([1,2,3,4,5,6,7,8,9,10])\n",
    "print('Basic Slicing: ', arr[2:7])\n",
    "print('with step: ', arr[1:8:2]) #With step means it will jump the step you give \n",
    "print('Negative indexing: ', arr[-9:-4]) # Indexing from behind"
   ]
  },
  {
   "cell_type": "markdown",
   "id": "ba633dc9",
   "metadata": {},
   "source": [
    "SOME BASIC OPERATION OF 2D ARRAY"
   ]
  },
  {
   "cell_type": "code",
   "execution_count": 7,
   "id": "f337cf6c",
   "metadata": {},
   "outputs": [
    {
     "name": "stdout",
     "output_type": "stream",
     "text": [
      "Specific element:  6\n",
      "Entire Row:  [4 5 6]\n",
      "Entire Column [2 5 8]\n"
     ]
    }
   ],
   "source": [
    "arr = np.array([[1,2,3],\n",
    "                [4,5,6],\n",
    "                [7,8,9]])\n",
    "\n",
    "print('Specific element: ', arr[1,2]) #If i want tp get specific element from 2D array\n",
    "print('Entire Row: ', arr[1]) #If i want specific entire row from 2D array\n",
    "print('Entire Column', arr[:, 1]) # if i want apecific entire column from 2D array"
   ]
  },
  {
   "cell_type": "markdown",
   "id": "22ee2c01",
   "metadata": {},
   "source": [
    "SORTING"
   ]
  },
  {
   "cell_type": "code",
   "execution_count": 8,
   "id": "efc0dfa4",
   "metadata": {},
   "outputs": [
    {
     "name": "stdout",
     "output_type": "stream",
     "text": [
      "Original Array:  [  3   5   4   8   6   9 546  78  10  36   5]\n",
      "Sorted Array:  [  3   4   5   5   6   8   9  10  36  78 546]\n"
     ]
    }
   ],
   "source": [
    "#Sorting means arranging the elements of array either in aescending or descending order.\n",
    "arr = np.array([3,5,4,8,6,9,546,78,10,36,5])\n",
    "print('Original Array: ', arr)\n",
    "print('Sorted Array: ', np.sort(arr))"
   ]
  },
  {
   "cell_type": "code",
   "execution_count": 14,
   "id": "af57c43c",
   "metadata": {},
   "outputs": [
    {
     "name": "stdout",
     "output_type": "stream",
     "text": [
      "Sorting Column wise:\n",
      " [[0 7 1]\n",
      " [2 8 3]\n",
      " [4 9 5]]\n",
      "Sorting Row wise:\n",
      " [[3 4 8]\n",
      " [2 5 7]\n",
      " [0 1 9]]\n"
     ]
    }
   ],
   "source": [
    "arr = np.array([[4,8,3],\n",
    "                [2,7,5],\n",
    "                [0,9,1]])\n",
    "\n",
    "print('Sorting Column wise:\\n', np.sort(arr, axis=0)) # Sorts the elements in each column\n",
    "print('Sorting Row wise:\\n', np.sort(arr, axis=1)) # Sorts the elements in each row"
   ]
  },
  {
   "cell_type": "markdown",
   "id": "62e0b9f6",
   "metadata": {},
   "source": [
    "Filter"
   ]
  },
  {
   "cell_type": "code",
   "execution_count": 15,
   "id": "cad92456",
   "metadata": {},
   "outputs": [
    {
     "name": "stdout",
     "output_type": "stream",
     "text": [
      "Even elements in the array:  [ 2  4  6  8 10]\n",
      "Odd elements in the array:  [1 3 5 7 9]\n"
     ]
    }
   ],
   "source": [
    "#Filtering means selecting specific elements from an array based on a condition\n",
    "\n",
    "arr = np.array([1,2,3,4,5,6,7,8,9,10])\n",
    "even = arr[arr % 2 == 0]\n",
    "odd = arr[arr % 2 != 0]\n",
    "print('Even elements in the array: ', even)\n",
    "print('Odd elements in the array: ', odd)"
   ]
  },
  {
   "cell_type": "code",
   "execution_count": 16,
   "id": "ca11f3f6",
   "metadata": {},
   "outputs": [
    {
     "name": "stdout",
     "output_type": "stream",
     "text": [
      "Elements greater than 5:  [ 6  7  8  9 10]\n"
     ]
    }
   ],
   "source": [
    "# Filtering with mask\n",
    "arr = np.array([1,2,3,4,5,6,7,8,9,10])\n",
    "mask = arr > 5\n",
    "print('Elements greater than 5: ', arr[mask])"
   ]
  },
  {
   "cell_type": "markdown",
   "id": "323c1672",
   "metadata": {},
   "source": [
    "FANCY INDEXING vs NP.WHERE()"
   ]
  },
  {
   "cell_type": "code",
   "execution_count": 18,
   "id": "ff1abd54",
   "metadata": {},
   "outputs": [
    {
     "name": "stdout",
     "output_type": "stream",
     "text": [
      "[1 3 5]\n",
      "[ 6  7  8  9 10]\n"
     ]
    }
   ],
   "source": [
    "arr = np.array([1,2,3,4,5,6,7,8,9,10])\n",
    "indices = [0,2,4]\n",
    "print(arr[indices])\n",
    "\n",
    "where_result = np.where(arr>5)\n",
    "print(arr[where_result])"
   ]
  },
  {
   "cell_type": "code",
   "execution_count": 27,
   "id": "83f0168c",
   "metadata": {},
   "outputs": [
    {
     "name": "stdout",
     "output_type": "stream",
     "text": [
      "[ 1  2  3  4  5 12 14 16 18 20]\n"
     ]
    }
   ],
   "source": [
    "#Condition Array\n",
    "'''Logic behind this\n",
    "if arr>5:\n",
    "    arr*2\n",
    "else:\n",
    "    arr'''\n",
    "\n",
    "arr = np.array([1,2,3,4,5,6,7,8,9,10])\n",
    "condi= np.where(arr>5, arr*2, arr)\n",
    "print(condi)"
   ]
  },
  {
   "cell_type": "code",
   "execution_count": null,
   "id": "636f7703",
   "metadata": {},
   "outputs": [],
   "source": []
  }
 ],
 "metadata": {
  "kernelspec": {
   "display_name": "env",
   "language": "python",
   "name": "python3"
  },
  "language_info": {
   "codemirror_mode": {
    "name": "ipython",
    "version": 3
   },
   "file_extension": ".py",
   "mimetype": "text/x-python",
   "name": "python",
   "nbconvert_exporter": "python",
   "pygments_lexer": "ipython3",
   "version": "3.11.9"
  }
 },
 "nbformat": 4,
 "nbformat_minor": 5
}
