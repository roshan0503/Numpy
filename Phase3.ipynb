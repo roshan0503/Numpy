{
 "cells": [
  {
   "cell_type": "markdown",
   "id": "1e207ac8",
   "metadata": {},
   "source": [
    "## Advance Operation with Business Example"
   ]
  },
  {
   "cell_type": "code",
   "execution_count": 2,
   "id": "3390ee2e",
   "metadata": {},
   "outputs": [],
   "source": [
    "import numpy as np\n",
    "import matplotlib.pyplot as plt"
   ]
  },
  {
   "cell_type": "code",
   "execution_count": 8,
   "id": "6c9304c1",
   "metadata": {},
   "outputs": [
    {
     "name": "stdout",
     "output_type": "stream",
     "text": [
      "==== Zomato Sales Analysis ====\n",
      "Sales data Shape (5, 5)\n"
     ]
    }
   ],
   "source": [
    "# Data Structure : [restaurant_id, 2021, 2022, 2023, 2024]\n",
    "sales_data = np.array([\n",
    "    [1, 150000, 180000, 220000, 250000], #Paradise Biryani\n",
    "    [1, 120000, 140000, 160000, 190000], #Beijing Bites\n",
    "    [1, 200000, 230000, 260000, 300000], #Pizza Hub\n",
    "    [1, 180000, 210000, 240000, 270000], #Burger Point\n",
    "    [1, 160000, 185000, 205000, 230000], #Chai Point\n",
    "])\n",
    "\n",
    "print('==== Zomato Sales Analysis ====')\n",
    "print('Sales data Shape', sales_data.shape)\n"
   ]
  },
  {
   "cell_type": "code",
   "execution_count": null,
   "id": "da91b8af",
   "metadata": {},
   "outputs": [],
   "source": []
  }
 ],
 "metadata": {
  "kernelspec": {
   "display_name": "env",
   "language": "python",
   "name": "python3"
  },
  "language_info": {
   "codemirror_mode": {
    "name": "ipython",
    "version": 3
   },
   "file_extension": ".py",
   "mimetype": "text/x-python",
   "name": "python",
   "nbconvert_exporter": "python",
   "pygments_lexer": "ipython3",
   "version": "3.11.9"
  }
 },
 "nbformat": 4,
 "nbformat_minor": 5
}
