{
 "cells": [
  {
   "cell_type": "markdown",
   "id": "1e207ac8",
   "metadata": {},
   "source": [
    "## Advance Operation with Business Example"
   ]
  },
  {
   "cell_type": "code",
   "execution_count": 2,
   "id": "3390ee2e",
   "metadata": {},
   "outputs": [],
   "source": [
    "import numpy as np\n",
    "import matplotlib.pyplot as plt"
   ]
  },
  {
   "cell_type": "code",
   "execution_count": 11,
   "id": "6c9304c1",
   "metadata": {},
   "outputs": [
    {
     "name": "stdout",
     "output_type": "stream",
     "text": [
      "==== Zomato Sales Analysis ====\n",
      "Sales data Shape (5, 5)\n"
     ]
    }
   ],
   "source": [
    "# Data Structure : [restaurant_id, 2021, 2022, 2023, 2024]\n",
    "sales_data = np.array([\n",
    "    [1, 150000, 180000, 220000, 250000], #Paradise Biryani\n",
    "    [2, 120000, 140000, 160000, 190000], #Beijing Bites\n",
    "    [3, 200000, 230000, 260000, 300000], #Pizza Hub\n",
    "    [4, 180000, 210000, 240000, 270000], #Burger Point\n",
    "    [5, 160000, 185000, 205000, 230000] #Chai Point\n",
    "])\n",
    "\n",
    "print('==== Zomato Sales Analysis ====')\n",
    "print('Sales data Shape', sales_data.shape)\n"
   ]
  },
  {
   "cell_type": "code",
   "execution_count": 12,
   "id": "da91b8af",
   "metadata": {},
   "outputs": [
    {
     "name": "stdout",
     "output_type": "stream",
     "text": [
      "First three rows of the data:\n",
      " [[     1 150000 180000 220000 250000]\n",
      " [     2 120000 140000 160000 190000]\n",
      " [     3 200000 230000 260000 300000]]\n"
     ]
    }
   ],
   "source": [
    "# I want first 3 rows of the data\n",
    "print('First three rows of the data:\\n', sales_data[0:3])"
   ]
  },
  {
   "cell_type": "code",
   "execution_count": 13,
   "id": "1d2ed45f",
   "metadata": {},
   "outputs": [
    {
     "name": "stdout",
     "output_type": "stream",
     "text": [
      "Last 4 columns of the data:\n",
      " [[150000 180000 220000 250000]\n",
      " [120000 140000 160000 190000]\n",
      " [200000 230000 260000 300000]\n",
      " [180000 210000 240000 270000]\n",
      " [160000 185000 205000 230000]]\n"
     ]
    }
   ],
   "source": [
    "# I want last 4 columns of the data\n",
    "print('Last 4 columns of the data:\\n', sales_data[:, 1:])"
   ]
  },
  {
   "cell_type": "code",
   "execution_count": 16,
   "id": "08be9c96",
   "metadata": {},
   "outputs": [
    {
     "name": "stdout",
     "output_type": "stream",
     "text": [
      "[ 810000  945000 1085000 1240000]\n"
     ]
    }
   ],
   "source": [
    "# I want combined sales of all restaurant per year\n",
    "comb_sale = np.sum(sales_data[:, 1:], axis=0)\n",
    "print(comb_sale)"
   ]
  },
  {
   "cell_type": "code",
   "execution_count": 18,
   "id": "987f151c",
   "metadata": {},
   "outputs": [
    {
     "name": "stdout",
     "output_type": "stream",
     "text": [
      "[800000 610000 990000 900000 780000]\n"
     ]
    }
   ],
   "source": [
    "# I want total sales of each restaurant of last 4 years\n",
    "total_sales = np.sum(sales_data[:, 1:], axis=1)\n",
    "print(total_sales)"
   ]
  },
  {
   "cell_type": "code",
   "execution_count": 23,
   "id": "bb671062",
   "metadata": {},
   "outputs": [
    {
     "name": "stdout",
     "output_type": "stream",
     "text": [
      "[150000 120000 200000 180000 160000]\n"
     ]
    }
   ],
   "source": [
    "# I want minimum sales per restaurant\n",
    "min_sales = np.min(sales_data[:, 1:], axis=1)\n",
    "print(min_sales)"
   ]
  },
  {
   "cell_type": "code",
   "execution_count": 25,
   "id": "4db67139",
   "metadata": {},
   "outputs": [
    {
     "name": "stdout",
     "output_type": "stream",
     "text": [
      "[200000 230000 260000 300000]\n"
     ]
    }
   ],
   "source": [
    "#I want maximum sales per year (means combined of all restaurant)\n",
    "max_sales = np.max(sales_data[:, 1: ], axis=0)\n",
    "print(max_sales)"
   ]
  },
  {
   "cell_type": "code",
   "execution_count": null,
   "id": "304bd60f",
   "metadata": {},
   "outputs": [],
   "source": []
  }
 ],
 "metadata": {
  "kernelspec": {
   "display_name": "env",
   "language": "python",
   "name": "python3"
  },
  "language_info": {
   "codemirror_mode": {
    "name": "ipython",
    "version": 3
   },
   "file_extension": ".py",
   "mimetype": "text/x-python",
   "name": "python",
   "nbconvert_exporter": "python",
   "pygments_lexer": "ipython3",
   "version": "3.11.9"
  }
 },
 "nbformat": 4,
 "nbformat_minor": 5
}
