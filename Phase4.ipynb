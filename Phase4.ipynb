{
 "cells": [
  {
   "cell_type": "markdown",
   "id": "e6091f8f",
   "metadata": {},
   "source": [
    "## Playing with Images"
   ]
  },
  {
   "cell_type": "code",
   "execution_count": 1,
   "id": "df6e59c5",
   "metadata": {},
   "outputs": [],
   "source": [
    "import numpy as np\n",
    "import matplotlib as plt\n",
    "import seaborn as sns "
   ]
  },
  {
   "cell_type": "code",
   "execution_count": 3,
   "id": "cc1db6c2",
   "metadata": {},
   "outputs": [],
   "source": [
    "array1 = np.array([[1,2,3],[4,5,6]])\n",
    "array2 = np.random.random((3,3))\n",
    "array3 = np.zeros((4,4))"
   ]
  },
  {
   "cell_type": "code",
   "execution_count": 4,
   "id": "df94cd46",
   "metadata": {},
   "outputs": [],
   "source": [
    "np.save('array1.npy', array1)\n",
    "np.save('array2.npy', array2)\n",
    "np.save('array3.npy', array3)"
   ]
  },
  {
   "cell_type": "code",
   "execution_count": null,
   "id": "9b66671d",
   "metadata": {},
   "outputs": [],
   "source": []
  }
 ],
 "metadata": {
  "kernelspec": {
   "display_name": "env",
   "language": "python",
   "name": "python3"
  },
  "language_info": {
   "codemirror_mode": {
    "name": "ipython",
    "version": 3
   },
   "file_extension": ".py",
   "mimetype": "text/x-python",
   "name": "python",
   "nbconvert_exporter": "python",
   "pygments_lexer": "ipython3",
   "version": "3.11.9"
  }
 },
 "nbformat": 4,
 "nbformat_minor": 5
}
